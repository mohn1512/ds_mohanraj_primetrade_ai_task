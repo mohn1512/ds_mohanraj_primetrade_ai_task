{
  "nbformat": 4,
  "nbformat_minor": 0,
  "metadata": {
    "colab": {
      "provenance": []
    },
    "kernelspec": {
      "name": "python3",
      "display_name": "Python 3"
    },
    "language_info": {
      "name": "python"
    }
  },
  "cells": [
    {
      "cell_type": "markdown",
      "source": [
        "# Trading Behavior vs Market Sentiment Analysis\n",
        "\n",
        "###### Dataset used:\n",
        "1. Historical Trader Data:\n",
        "https://drive.google.com/file/d/1IAfLZwu6rJzyWKgBToqwSmmVYU6VbjV\n",
        " s/view?usp=sharing\n",
        "2. Fear & Greed Index:\n",
        "https://drive.google.com/file/d/1PgQC0tO8XN-wqkNyghWc_\n",
        "mnrYv_nhSf/view?usp=sharing\n"
      ],
      "metadata": {
        "id": "mKH8jABoMN2T"
      }
    },
    {
      "cell_type": "markdown",
      "source": [
        "### Complete analysis with visualizations saved to outputs folder\n"
      ],
      "metadata": {
        "id": "FEfFZiMrMTLU"
      }
    },
    {
      "cell_type": "code",
      "source": [
        "import pandas as pd\n",
        "import numpy as np\n",
        "import matplotlib.pyplot as plt\n",
        "import seaborn as sns\n",
        "from xgboost import XGBRegressor\n",
        "from sklearn.preprocessing import StandardScaler\n",
        "import warnings\n",
        "import os\n",
        "from datetime import datetime\n",
        "\n",
        "warnings.filterwarnings('ignore')"
      ],
      "metadata": {
        "id": "GbPntynNMLfS"
      },
      "execution_count": 1,
      "outputs": []
    },
    {
      "cell_type": "markdown",
      "source": [
        "### Create outputs folder if it doesn't exist"
      ],
      "metadata": {
        "id": "5WudDvokMcuv"
      }
    },
    {
      "cell_type": "code",
      "source": [
        "os.makedirs('outputs', exist_ok=True)"
      ],
      "metadata": {
        "id": "FV-O9ejKMarN"
      },
      "execution_count": 2,
      "outputs": []
    },
    {
      "cell_type": "markdown",
      "source": [
        "## DATA LOADING & PREPROCESSING\n",
        "\n",
        "---\n",
        "\n"
      ],
      "metadata": {
        "id": "gpDfb2U5MhaG"
      }
    },
    {
      "cell_type": "code",
      "execution_count": 3,
      "metadata": {
        "id": "J83Shy9qKOLB",
        "colab": {
          "base_uri": "https://localhost:8080/"
        },
        "outputId": "20276e01-c4d1-4bc6-8f88-14fe8cfc2070"
      },
      "outputs": [
        {
          "output_type": "stream",
          "name": "stdout",
          "text": [
            "============================================================\n",
            "LOADING AND PREPROCESSING DATA\n",
            "============================================================\n",
            "Combined dataset shape: (479, 8)\n",
            "Date range: 2023-05-01 00:00:00 to 2025-05-01 00:00:00\n"
          ]
        }
      ],
      "source": [
        "print(\"=\"*60)\n",
        "print(\"LOADING AND PREPROCESSING DATA\")\n",
        "print(\"=\"*60)\n",
        "\n",
        "# Load datasets\n",
        "fear_greed_df = pd.read_csv('/content/ds_mohanraj_m/MyDrive/ds_mohanraj/csv_files/fear_greed_index.csv')\n",
        "trading_df = pd.read_csv('/content/ds_mohanraj_m/MyDrive/ds_mohanraj/csv_files/historical_data.csv')\n",
        "\n",
        "# Preprocess Fear & Greed Index data\n",
        "fear_greed_df['date'] = pd.to_datetime(fear_greed_df['date'])\n",
        "fear_greed_df = fear_greed_df.sort_values('date')\n",
        "\n",
        "# Preprocess Trading data\n",
        "trading_df['Timestamp IST'] = pd.to_datetime(trading_df['Timestamp IST'], format='%d-%m-%Y %H:%M')\n",
        "trading_df['Date'] = trading_df['Timestamp IST'].dt.date\n",
        "\n",
        "# Create daily trading metrics\n",
        "daily_metrics = trading_df.groupby('Date').agg({\n",
        "    'Size USD': 'sum',\n",
        "    'Closed PnL': 'sum',\n",
        "    'Trade ID': 'count',\n",
        "    'Fee': 'sum'\n",
        "}).reset_index()\n",
        "\n",
        "daily_metrics['Date'] = pd.to_datetime(daily_metrics['Date'])\n",
        "\n",
        "# Merge datasets\n",
        "combined_df = pd.merge(daily_metrics,\n",
        "                      fear_greed_df[['date', 'value', 'classification']],\n",
        "                      left_on='Date',\n",
        "                      right_on='date',\n",
        "                      how='inner')\n",
        "\n",
        "print(f\"Combined dataset shape: {combined_df.shape}\")\n",
        "print(f\"Date range: {combined_df['Date'].min()} to {combined_df['Date'].max()}\")"
      ]
    },
    {
      "cell_type": "markdown",
      "source": [
        "# 1. SENTIMENT DISTRIBUTION ANALYSIS\n",
        "\n",
        "---\n",
        "\n"
      ],
      "metadata": {
        "id": "7Efa8vAXNCKO"
      }
    },
    {
      "cell_type": "code",
      "source": [
        "print(\"\\n\" + \"=\"*60)\n",
        "print(\"1. MARKET SENTIMENT ANALYSIS\")\n",
        "print(\"=\"*60)\n",
        "\n",
        "fig, axes = plt.subplots(2, 2, figsize=(15, 10))\n",
        "fig.suptitle('Market Sentiment (Fear & Greed Index) Analysis', fontsize=16, fontweight='bold')\n",
        "\n",
        "# Distribution of sentiment values\n",
        "axes[0, 0].hist(fear_greed_df['value'], bins=30, color='steelblue', edgecolor='black', alpha=0.7)\n",
        "axes[0, 0].set_title('Distribution of Sentiment Values', fontsize=12, fontweight='bold')\n",
        "axes[0, 0].set_xlabel('Sentiment Value (0-100)')\n",
        "axes[0, 0].set_ylabel('Frequency')\n",
        "axes[0, 0].grid(alpha=0.3)\n",
        "\n",
        "# Sentiment classification distribution\n",
        "sentiment_counts = fear_greed_df['classification'].value_counts()\n",
        "axes[0, 1].bar(range(len(sentiment_counts)), sentiment_counts.values, color='coral', edgecolor='black', alpha=0.7)\n",
        "axes[0, 1].set_xticks(range(len(sentiment_counts)))\n",
        "axes[0, 1].set_xticklabels(sentiment_counts.index, rotation=45, ha='right')\n",
        "axes[0, 1].set_title('Sentiment Classification Distribution', fontsize=12, fontweight='bold')\n",
        "axes[0, 1].set_ylabel('Count')\n",
        "axes[0, 1].grid(alpha=0.3, axis='y')\n",
        "\n",
        "# Sentiment trends over time\n",
        "axes[1, 0].plot(fear_greed_df['date'], fear_greed_df['value'], linewidth=2, color='darkblue')\n",
        "axes[1, 0].fill_between(fear_greed_df['date'], 0, 50, alpha=0.2, color='red', label='Fear Zone')\n",
        "axes[1, 0].fill_between(fear_greed_df['date'], 50, 100, alpha=0.2, color='green', label='Greed Zone')\n",
        "axes[1, 0].set_title('Fear & Greed Index Over Time', fontsize=12, fontweight='bold')\n",
        "axes[1, 0].set_xlabel('Date')\n",
        "axes[1, 0].set_ylabel('Sentiment Value')\n",
        "axes[1, 0].legend()\n",
        "axes[1, 0].grid(alpha=0.3)\n",
        "\n",
        "# Sentiment statistics\n",
        "stats_text = f\"\"\"Mean: {fear_greed_df['value'].mean():.2f}\n",
        "Median: {fear_greed_df['value'].median():.2f}\n",
        "Std Dev: {fear_greed_df['value'].std():.2f}\n",
        "Min: {fear_greed_df['value'].min():.0f}\n",
        "Max: {fear_greed_df['value'].max():.0f}\"\"\"\n",
        "\n",
        "axes[1, 1].text(0.1, 0.5, stats_text, fontsize=11, verticalalignment='center',\n",
        "               bbox=dict(boxstyle='round', facecolor='wheat', alpha=0.5), family='monospace')\n",
        "axes[1, 1].axis('off')\n",
        "axes[1, 1].set_title('Sentiment Statistics', fontsize=12, fontweight='bold')\n",
        "\n",
        "plt.tight_layout()\n",
        "plt.show()\n",
        "plt.savefig('outputs/01_sentiment_analysis.png', dpi=300, bbox_inches='tight')\n",
        "print(\"✓ Saved: 01_sentiment_analysis.png\")\n",
        "plt.close()"
      ],
      "metadata": {
        "colab": {
          "base_uri": "https://localhost:8080/",
          "height": 726
        },
        "id": "TnpEyE8CM-uV",
        "outputId": "eea8fb63-0834-4a69-d7b3-2323a44df58c"
      },
      "execution_count": 15,
      "outputs": [
        {
          "output_type": "stream",
          "name": "stdout",
          "text": [
            "\n",
            "============================================================\n",
            "1. MARKET SENTIMENT ANALYSIS\n",
            "============================================================\n"
          ]
        },
        {
          "output_type": "display_data",
          "data": {
            "text/plain": [
              "<Figure size 1500x1000 with 4 Axes>"
            ],
            "image/png": "[encoded data removed]"
          },
          "metadata": {}
        },
        {
          "output_type": "stream",
          "name": "stdout",
          "text": [
            "✓ Saved: 01_sentiment_analysis.png\n"
          ]
        }
      ]
    },
    {
      "cell_type": "markdown",
      "source": [
        "## 2. TRADING ACTIVITY ANALYSIS\n",
        "\n",
        "---\n",
        "\n"
      ],
      "metadata": {
        "id": "WsfoCLysOiZU"
      }
    },
    {
      "cell_type": "code",
      "source": [
        "print(\"\\n\" + \"=\"*60)\n",
        "print(\"2. TRADING ACTIVITY ANALYSIS\")\n",
        "print(\"=\"*60)\n",
        "\n",
        "fig, axes = plt.subplots(2, 2, figsize=(15, 10))\n",
        "fig.suptitle('Trading Activity & Performance Metrics', fontsize=16, fontweight='bold')\n",
        "\n",
        "# Daily trading volume\n",
        "axes[0, 0].plot(daily_metrics['Date'], daily_metrics['Size USD']/1e6, linewidth=2, color='darkgreen')\n",
        "axes[0, 0].fill_between(daily_metrics['Date'], 0, daily_metrics['Size USD']/1e6, alpha=0.3, color='green')\n",
        "axes[0, 0].set_title('Daily Trading Volume', fontsize=12, fontweight='bold')\n",
        "axes[0, 0].set_xlabel('Date')\n",
        "axes[0, 0].set_ylabel('Volume (USD Millions)')\n",
        "axes[0, 0].grid(alpha=0.3)\n",
        "\n",
        "# Daily PnL\n",
        "colors = ['green' if x > 0 else 'red' for x in daily_metrics['Closed PnL']]\n",
        "axes[0, 1].bar(daily_metrics['Date'], daily_metrics['Closed PnL'], color=colors, alpha=0.7, width=1)\n",
        "axes[0, 1].axhline(y=0, color='black', linestyle='-', linewidth=1)\n",
        "axes[0, 1].set_title('Daily Profit/Loss (PnL)', fontsize=12, fontweight='bold')\n",
        "axes[0, 1].set_xlabel('Date')\n",
        "axes[0, 1].set_ylabel('PnL (USD)')\n",
        "axes[0, 1].grid(alpha=0.3, axis='y')\n",
        "\n",
        "# Cumulative PnL\n",
        "cumulative_pnl = daily_metrics['Closed PnL'].cumsum()\n",
        "axes[1, 0].plot(daily_metrics['Date'], cumulative_pnl, linewidth=2.5, color='darkblue', marker='o', markersize=3)\n",
        "axes[1, 0].fill_between(daily_metrics['Date'], 0, cumulative_pnl, alpha=0.3, color='blue')\n",
        "axes[1, 0].set_title('Cumulative PnL', fontsize=12, fontweight='bold')\n",
        "axes[1, 0].set_xlabel('Date')\n",
        "axes[1, 0].set_ylabel('Cumulative PnL (USD)')\n",
        "axes[1, 0].grid(alpha=0.3)\n",
        "\n",
        "# Number of trades per day\n",
        "axes[1, 1].plot(daily_metrics['Date'], daily_metrics['Trade ID'], linewidth=2, marker='o', markersize=4, color='purple')\n",
        "axes[1, 1].fill_between(daily_metrics['Date'], 0, daily_metrics['Trade ID'], alpha=0.3, color='purple')\n",
        "axes[1, 1].set_title('Daily Trade Count', fontsize=12, fontweight='bold')\n",
        "axes[1, 1].set_xlabel('Date')\n",
        "axes[1, 1].set_ylabel('Number of Trades')\n",
        "axes[1, 1].grid(alpha=0.3)\n",
        "\n",
        "plt.tight_layout()\n",
        "plt.show()\n",
        "plt.savefig('outputs/02_trading_activity.png', dpi=300, bbox_inches='tight')\n",
        "print(\"✓ Saved: 02_trading_activity.png\")\n",
        "plt.close()"
      ],
      "metadata": {
        "colab": {
          "base_uri": "https://localhost:8080/"
        },
        "id": "zBNR_rOXNJXB",
        "outputId": "aa7c4e44-e3ce-41f8-c615-a27a8536c93f"
      },
      "execution_count": 5,
      "outputs": [
        {
          "output_type": "stream",
          "name": "stdout",
          "text": [
            "\n",
            "============================================================\n",
            "2. TRADING ACTIVITY ANALYSIS\n",
            "============================================================\n",
            "✓ Saved: 02_trading_activity.png\n"
          ]
        }
      ]
    },
    {
      "cell_type": "markdown",
      "source": [
        "## 3. SENTIMENT VS TRADING BEHAVIOR\n",
        "\n",
        "---\n",
        "\n"
      ],
      "metadata": {
        "id": "aFXDcloUOpMp"
      }
    },
    {
      "cell_type": "code",
      "source": [
        "print(\"\\n\" + \"=\"*60)\n",
        "print(\"3. SENTIMENT VS TRADING BEHAVIOR CORRELATIONS\")\n",
        "print(\"=\"*60)\n",
        "\n",
        "fig, axes = plt.subplots(2, 2, figsize=(15, 10))\n",
        "fig.suptitle('Trading Behavior Aligned with Market Sentiment', fontsize=16, fontweight='bold')\n",
        "\n",
        "# Sentiment vs Trading Volume\n",
        "axes[0, 0].scatter(combined_df['value'], combined_df['Size USD']/1e6, alpha=0.6, s=80, color='steelblue', edgecolors='black')\n",
        "z = np.polyfit(combined_df['value'], combined_df['Size USD']/1e6, 2)\n",
        "p = np.poly1d(z)\n",
        "x_smooth = np.linspace(combined_df['value'].min(), combined_df['value'].max(), 100)\n",
        "axes[0, 0].plot(x_smooth, p(x_smooth), \"r--\", linewidth=2, label='Trend')\n",
        "corr = combined_df['value'].corr(combined_df['Size USD'])\n",
        "axes[0, 0].set_title(f'Sentiment vs Trading Volume\\n(Correlation: {corr:.3f})', fontsize=12, fontweight='bold')\n",
        "axes[0, 0].set_xlabel('Sentiment Value')\n",
        "axes[0, 0].set_ylabel('Volume (USD Millions)')\n",
        "axes[0, 0].legend()\n",
        "axes[0, 0].grid(alpha=0.3)\n",
        "\n",
        "# Sentiment vs PnL\n",
        "axes[0, 1].scatter(combined_df['value'], combined_df['Closed PnL'], alpha=0.6, s=80, color='darkgreen', edgecolors='black')\n",
        "z = np.polyfit(combined_df['value'], combined_df['Closed PnL'], 2)\n",
        "p = np.poly1d(z)\n",
        "axes[0, 1].plot(x_smooth, p(x_smooth), \"r--\", linewidth=2, label='Trend')\n",
        "corr = combined_df['value'].corr(combined_df['Closed PnL'])\n",
        "axes[0, 1].set_title(f'Sentiment vs PnL\\n(Correlation: {corr:.3f})', fontsize=12, fontweight='bold')\n",
        "axes[0, 1].set_xlabel('Sentiment Value')\n",
        "axes[0, 1].set_ylabel('PnL (USD)')\n",
        "axes[0, 1].axhline(y=0, color='black', linestyle='-', linewidth=1)\n",
        "axes[0, 1].legend()\n",
        "axes[0, 1].grid(alpha=0.3)\n",
        "\n",
        "# Sentiment vs Trade Count\n",
        "axes[1, 0].scatter(combined_df['value'], combined_df['Trade ID'], alpha=0.6, s=80, color='purple', edgecolors='black')\n",
        "z = np.polyfit(combined_df['value'], combined_df['Trade ID'], 1)\n",
        "p = np.poly1d(z)\n",
        "axes[1, 0].plot(x_smooth, p(x_smooth), \"r--\", linewidth=2, label='Trend')\n",
        "corr = combined_df['value'].corr(combined_df['Trade ID'])\n",
        "axes[1, 0].set_title(f'Sentiment vs Trade Count\\n(Correlation: {corr:.3f})', fontsize=12, fontweight='bold')\n",
        "axes[1, 0].set_xlabel('Sentiment Value')\n",
        "axes[1, 0].set_ylabel('Number of Trades')\n",
        "axes[1, 0].legend()\n",
        "axes[1, 0].grid(alpha=0.3)\n",
        "\n",
        "# Volume vs PnL\n",
        "axes[1, 1].scatter(combined_df['Size USD']/1e6, combined_df['Closed PnL'], alpha=0.6, s=80, color='orange', edgecolors='black')\n",
        "z = np.polyfit(combined_df['Size USD'], combined_df['Closed PnL'], 1)\n",
        "p = np.poly1d(z)\n",
        "x_vol = np.linspace(combined_df['Size USD'].min(), combined_df['Size USD'].max(), 100)\n",
        "axes[1, 1].plot(x_vol/1e6, p(x_vol), \"r--\", linewidth=2, label='Trend')\n",
        "corr = combined_df['Size USD'].corr(combined_df['Closed PnL'])\n",
        "axes[1, 1].set_title(f'Trading Volume vs PnL\\n(Correlation: {corr:.3f})', fontsize=12, fontweight='bold')\n",
        "axes[1, 1].set_xlabel('Volume (USD Millions)')\n",
        "axes[1, 1].set_ylabel('PnL (USD)')\n",
        "axes[1, 1].legend()\n",
        "axes[1, 1].grid(alpha=0.3)\n",
        "\n",
        "plt.tight_layout()\n",
        "plt.show()\n",
        "plt.savefig('outputs/03_sentiment_trading_correlation.png', dpi=300, bbox_inches='tight')\n",
        "print(\"✓ Saved: 03_sentiment_trading_correlation.png\")\n",
        "plt.close()"
      ],
      "metadata": {
        "colab": {
          "base_uri": "https://localhost:8080/"
        },
        "id": "uCpost32NQL5",
        "outputId": "366f2b31-2524-468c-e72b-40e92b802557"
      },
      "execution_count": 6,
      "outputs": [
        {
          "output_type": "stream",
          "name": "stdout",
          "text": [
            "\n",
            "============================================================\n",
            "3. SENTIMENT VS TRADING BEHAVIOR CORRELATIONS\n",
            "============================================================\n",
            "✓ Saved: 03_sentiment_trading_correlation.png\n"
          ]
        }
      ]
    },
    {
      "cell_type": "markdown",
      "source": [
        "## 4. PERFORMANCE BY SENTIMENT REGIME\n",
        "\n",
        "---\n",
        "\n"
      ],
      "metadata": {
        "id": "-ZnsAZucOveb"
      }
    },
    {
      "cell_type": "code",
      "source": [
        "print(\"\\n\" + \"=\"*60)\n",
        "print(\"4. PERFORMANCE BY SENTIMENT REGIME\")\n",
        "print(\"=\"*60)\n",
        "\n",
        "fig, axes = plt.subplots(2, 2, figsize=(15, 10))\n",
        "fig.suptitle('Trading Performance Across Different Sentiment Regimes', fontsize=16, fontweight='bold')\n",
        "\n",
        "# PnL distribution by sentiment classification\n",
        "sentiment_order = ['Extreme Fear', 'Fear', 'Neutral', 'Greed', 'Extreme Greed']\n",
        "combined_df['classification'] = pd.Categorical(combined_df['classification'], categories=sentiment_order, ordered=True)\n",
        "combined_df = combined_df.sort_values('classification')\n",
        "\n",
        "sns.boxplot(data=combined_df, x='classification', y='Closed PnL', ax=axes[0, 0], palette='Set2')\n",
        "axes[0, 0].set_title('PnL Distribution by Sentiment Classification', fontsize=12, fontweight='bold')\n",
        "axes[0, 0].set_xlabel('Sentiment Classification')\n",
        "axes[0, 0].set_ylabel('PnL (USD)')\n",
        "axes[0, 0].tick_params(axis='x', rotation=45)\n",
        "axes[0, 0].grid(alpha=0.3, axis='y')\n",
        "\n",
        "# Average PnL by sentiment\n",
        "avg_pnl = combined_df.groupby('classification')['Closed PnL'].mean()\n",
        "axes[0, 1].bar(range(len(avg_pnl)), avg_pnl.values, color=['darkred', 'red', 'gray', 'lightgreen', 'darkgreen'], alpha=0.7, edgecolor='black')\n",
        "axes[0, 1].set_xticks(range(len(avg_pnl)))\n",
        "axes[0, 1].set_xticklabels(avg_pnl.index, rotation=45, ha='right')\n",
        "axes[0, 1].set_title('Average PnL by Sentiment Regime', fontsize=12, fontweight='bold')\n",
        "axes[0, 1].set_ylabel('Average PnL (USD)')\n",
        "axes[0, 1].axhline(y=0, color='black', linestyle='-', linewidth=1)\n",
        "axes[0, 1].grid(alpha=0.3, axis='y')\n",
        "\n",
        "# Win rate by sentiment\n",
        "win_rate_by_sentiment = (combined_df.groupby('classification')['Closed PnL'].apply(lambda x: (x > 0).mean()) * 100)\n",
        "axes[1, 0].plot(range(len(win_rate_by_sentiment)), win_rate_by_sentiment.values, marker='o', markersize=10, linewidth=2.5, color='darkblue')\n",
        "axes[1, 0].set_xticks(range(len(win_rate_by_sentiment)))\n",
        "axes[1, 0].set_xticklabels(win_rate_by_sentiment.index, rotation=45, ha='right')\n",
        "axes[1, 0].set_title('Win Rate by Sentiment Regime', fontsize=12, fontweight='bold')\n",
        "axes[1, 0].set_ylabel('Win Rate (%)')\n",
        "axes[1, 0].set_ylim([0, 100])\n",
        "axes[1, 0].grid(alpha=0.3)\n",
        "\n",
        "# Volatility by sentiment\n",
        "vol_by_sentiment = combined_df.groupby('classification')['Closed PnL'].std()\n",
        "axes[1, 1].bar(range(len(vol_by_sentiment)), vol_by_sentiment.values, color='teal', alpha=0.7, edgecolor='black')\n",
        "axes[1, 1].set_xticks(range(len(vol_by_sentiment)))\n",
        "axes[1, 1].set_xticklabels(vol_by_sentiment.index, rotation=45, ha='right')\n",
        "axes[1, 1].set_title('PnL Volatility by Sentiment Regime', fontsize=12, fontweight='bold')\n",
        "axes[1, 1].set_ylabel('Std Dev of PnL (USD)')\n",
        "axes[1, 1].grid(alpha=0.3, axis='y')\n",
        "\n",
        "plt.tight_layout()\n",
        "plt.show()\n",
        "plt.savefig('outputs/04_performance_by_sentiment_regime.png', dpi=300, bbox_inches='tight')\n",
        "print(\"✓ Saved: 04_performance_by_sentiment_regime.png\")\n",
        "plt.close()"
      ],
      "metadata": {
        "colab": {
          "base_uri": "https://localhost:8080/"
        },
        "id": "oI3JVJctNULK",
        "outputId": "abdb09cb-19f2-44d4-f989-867b070c3cfe"
      },
      "execution_count": 7,
      "outputs": [
        {
          "output_type": "stream",
          "name": "stdout",
          "text": [
            "\n",
            "============================================================\n",
            "4. PERFORMANCE BY SENTIMENT REGIME\n",
            "============================================================\n",
            "✓ Saved: 04_performance_by_sentiment_regime.png\n"
          ]
        }
      ]
    },
    {
      "cell_type": "markdown",
      "source": [
        "## 5. CORRELATION MATRIX\n",
        "\n",
        "---\n",
        "\n"
      ],
      "metadata": {
        "id": "CaiGoJUWO1P6"
      }
    },
    {
      "cell_type": "code",
      "source": [
        "print(\"\\n\" + \"=\"*60)\n",
        "print(\"5. CORRELATION ANALYSIS\")\n",
        "print(\"=\"*60)\n",
        "\n",
        "correlation_cols = ['value', 'Size USD', 'Closed PnL', 'Trade ID', 'Fee']\n",
        "correlation_matrix = combined_df[correlation_cols].corr()\n",
        "\n",
        "fig, ax = plt.subplots(figsize=(10, 8))\n",
        "sns.heatmap(correlation_matrix, annot=True, fmt='.3f', cmap='coolwarm', center=0,\n",
        "           square=True, linewidths=1, cbar_kws={\"shrink\": 0.8}, ax=ax)\n",
        "ax.set_title('Correlation Matrix: Sentiment vs Trading Metrics', fontsize=14, fontweight='bold')\n",
        "plt.tight_layout()\n",
        "plt.show()\n",
        "plt.savefig('outputs/05_correlation_matrix.png', dpi=300, bbox_inches='tight')\n",
        "print(\"✓ Saved: 05_correlation_matrix.png\")\n",
        "plt.close()\n",
        "\n",
        "print(\"\\nCorrelation with Sentiment (value):\")\n",
        "print(correlation_matrix['value'].sort_values(ascending=False))"
      ],
      "metadata": {
        "colab": {
          "base_uri": "https://localhost:8080/"
        },
        "id": "RKpqe6WcNZBu",
        "outputId": "b1f50e1f-5546-4add-f773-8e218be1673c"
      },
      "execution_count": 8,
      "outputs": [
        {
          "output_type": "stream",
          "name": "stdout",
          "text": [
            "\n",
            "============================================================\n",
            "5. CORRELATION ANALYSIS\n",
            "============================================================\n",
            "✓ Saved: 05_correlation_matrix.png\n",
            "\n",
            "Correlation with Sentiment (value):\n",
            "value         1.000000\n",
            "Closed PnL   -0.082642\n",
            "Trade ID     -0.245241\n",
            "Fee          -0.260932\n",
            "Size USD     -0.264371\n",
            "Name: value, dtype: float64\n"
          ]
        }
      ]
    },
    {
      "cell_type": "markdown",
      "source": [
        "##### The correlation matrix suggests that there is a weak tendency for trading activity (volume, trade count, fees) to decrease slightly as market sentiment becomes more \"greedy\". The relationship between sentiment and PnL is also very weak and negative, implying that higher sentiment is slightly associated with lower PnL, but this connection is not strong."
      ],
      "metadata": {
        "id": "5vM3UWflP2jl"
      }
    },
    {
      "cell_type": "markdown",
      "source": [
        "## 6. HIDDEN TRENDS & SIGNALS\n",
        "\n",
        "---\n",
        "\n"
      ],
      "metadata": {
        "id": "4kPfXvETO5Wb"
      }
    },
    {
      "cell_type": "code",
      "source": [
        "print(\"\\n\" + \"=\"*60)\n",
        "print(\"6. HIDDEN TRENDS & ADVANCED SIGNALS\")\n",
        "print(\"=\"*60)\n",
        "\n",
        "# Create custom indicators\n",
        "combined_df['Daily_Return'] = (combined_df['Closed PnL'] / combined_df['Size USD']).fillna(0)\n",
        "combined_df['Sentiment_MA7'] = combined_df['value'].rolling(7).mean()\n",
        "combined_df['Sentiment_MA21'] = combined_df['value'].rolling(21).mean()\n",
        "combined_df['Sentiment_Momentum'] = combined_df['value'].diff()\n",
        "combined_df['Volume_MA'] = combined_df['Size USD'].rolling(7).mean()\n",
        "\n",
        "fig, axes = plt.subplots(3, 1, figsize=(15, 12))\n",
        "fig.suptitle('Hidden Trends & Advanced Trading Signals', fontsize=16, fontweight='bold')\n",
        "\n",
        "# Sentiment with moving averages\n",
        "axes[0].plot(combined_df['Date'], combined_df['value'], linewidth=1.5, label='Sentiment', alpha=0.7, color='black')\n",
        "axes[0].plot(combined_df['Date'], combined_df['Sentiment_MA7'], linewidth=2, label='7-day MA', color='blue')\n",
        "axes[0].plot(combined_df['Date'], combined_df['Sentiment_MA21'], linewidth=2, label='21-day MA', color='red')\n",
        "axes[0].fill_between(combined_df['Date'], 0, 50, alpha=0.1, color='red')\n",
        "axes[0].fill_between(combined_df['Date'], 50, 100, alpha=0.1, color='green')\n",
        "axes[0].set_title('Sentiment Trends with Moving Averages', fontsize=12, fontweight='bold')\n",
        "axes[0].set_ylabel('Sentiment Value')\n",
        "axes[0].legend(loc='upper left')\n",
        "axes[0].grid(alpha=0.3)\n",
        "\n",
        "# Sentiment momentum\n",
        "colors_momentum = ['green' if x > 0 else 'red' for x in combined_df['Sentiment_Momentum'].fillna(0)]\n",
        "axes[1].bar(combined_df['Date'], combined_df['Sentiment_Momentum'].fillna(0), color=colors_momentum, alpha=0.7, width=1)\n",
        "axes[1].axhline(y=0, color='black', linestyle='-', linewidth=1)\n",
        "axes[1].set_title('Sentiment Momentum (Rate of Change)', fontsize=12, fontweight='bold')\n",
        "axes[1].set_ylabel('Momentum')\n",
        "axes[1].grid(alpha=0.3)\n",
        "\n",
        "# Volume with sentiment overlay\n",
        "ax1 = axes[2]\n",
        "ax1.bar(combined_df['Date'], combined_df['Size USD']/1e6, alpha=0.5, color='steelblue', label='Trading Volume')\n",
        "ax1.set_ylabel('Volume (USD Millions)', color='steelblue')\n",
        "ax1.tick_params(axis='y', labelcolor='steelblue')\n",
        "\n",
        "ax2 = ax1.twinx()\n",
        "ax2.plot(combined_df['Date'], combined_df['value'], linewidth=2.5, color='darkred', label='Sentiment', marker='o', markersize=4)\n",
        "ax2.set_ylabel('Sentiment Value', color='darkred')\n",
        "ax2.tick_params(axis='y', labelcolor='darkred')\n",
        "ax1.set_title('Volume vs Sentiment Relationship', fontsize=12, fontweight='bold')\n",
        "ax1.grid(alpha=0.3)\n",
        "\n",
        "plt.tight_layout()\n",
        "plt.show()\n",
        "plt.savefig('outputs/06_hidden_trends_signals.png', dpi=300, bbox_inches='tight')\n",
        "print(\"✓ Saved: 06_hidden_trends_signals.png\")\n",
        "plt.close()"
      ],
      "metadata": {
        "colab": {
          "base_uri": "https://localhost:8080/"
        },
        "id": "6Ix894rWNeI3",
        "outputId": "6c69cf96-b22a-406d-b1b4-9d1c8438f982"
      },
      "execution_count": 9,
      "outputs": [
        {
          "output_type": "stream",
          "name": "stdout",
          "text": [
            "\n",
            "============================================================\n",
            "6. HIDDEN TRENDS & ADVANCED SIGNALS\n",
            "============================================================\n",
            "✓ Saved: 06_hidden_trends_signals.png\n"
          ]
        }
      ]
    },
    {
      "cell_type": "markdown",
      "source": [
        "## 7. STRATEGY RECOMMENDATIONS\n",
        "\n",
        "---\n",
        "\n"
      ],
      "metadata": {
        "id": "Mm50cKuMO_FK"
      }
    },
    {
      "cell_type": "code",
      "source": [
        "print(\"\\n\" + \"=\"*60)\n",
        "print(\"7. ACTIONABLE TRADING STRATEGY INSIGHTS\")\n",
        "print(\"=\"*60)\n",
        "\n",
        "fig = plt.figure(figsize=(15, 10))\n",
        "gs = fig.add_gridspec(3, 2, hspace=0.4, wspace=0.3)\n",
        "\n",
        "# Define trading signals\n",
        "def get_signal(row):\n",
        "    if row['classification'] == 'Extreme Fear':\n",
        "        return 'BUY'\n",
        "    elif row['classification'] == 'Extreme Greed':\n",
        "        return 'SELL'\n",
        "    else:\n",
        "        return 'HOLD'\n",
        "\n",
        "combined_df['Signal'] = combined_df.apply(get_signal, axis=1)\n",
        "\n",
        "# 1. Signal performance\n",
        "ax1 = fig.add_subplot(gs[0, :])\n",
        "signal_stats = combined_df.groupby('Signal')['Closed PnL'].agg(['mean', 'count', 'std'])\n",
        "colors_signal = {'BUY': 'green', 'SELL': 'red', 'HOLD': 'gray'}\n",
        "bars = ax1.bar(signal_stats.index, signal_stats['mean'],\n",
        "              color=[colors_signal[s] for s in signal_stats.index], alpha=0.7, edgecolor='black', linewidth=2)\n",
        "ax1.set_title('Average PnL by Trading Signal', fontsize=12, fontweight='bold')\n",
        "ax1.set_ylabel('Average PnL (USD)')\n",
        "ax1.axhline(y=0, color='black', linestyle='-', linewidth=1)\n",
        "ax1.grid(alpha=0.3, axis='y')\n",
        "for i, bar in enumerate(bars):\n",
        "    height = bar.get_height()\n",
        "    ax1.text(bar.get_x() + bar.get_width()/2., height,\n",
        "            f'n={int(signal_stats[\"count\"].iloc[i])}',\n",
        "            ha='center', va='bottom' if height > 0 else 'top')\n",
        "\n",
        "# 2. Win rate by signal\n",
        "ax2 = fig.add_subplot(gs[1, 0])\n",
        "win_rate = (combined_df.groupby('Signal')['Closed PnL'].apply(lambda x: (x > 0).mean()) * 100)\n",
        "bars = ax2.bar(win_rate.index, win_rate.values,\n",
        "              color=[colors_signal[s] for s in win_rate.index], alpha=0.7, edgecolor='black', linewidth=2)\n",
        "ax2.set_title('Win Rate by Signal', fontsize=12, fontweight='bold')\n",
        "ax2.set_ylabel('Win Rate (%)')\n",
        "ax2.set_ylim([0, 100])\n",
        "ax2.grid(alpha=0.3, axis='y')\n",
        "\n",
        "# 3. Risk-Adjusted Returns (Sharpe)\n",
        "ax3 = fig.add_subplot(gs[1, 1])\n",
        "sharpe_ratio = combined_df.groupby('Signal')['Closed PnL'].apply(\n",
        "    lambda x: x.mean() / x.std() if x.std() > 0 else 0\n",
        ")\n",
        "bars = ax3.bar(sharpe_ratio.index, sharpe_ratio.values,\n",
        "              color=[colors_signal[s] for s in sharpe_ratio.index], alpha=0.7, edgecolor='black', linewidth=2)\n",
        "ax3.set_title('Sharpe Ratio by Signal', fontsize=12, fontweight='bold')\n",
        "ax3.set_ylabel('Sharpe Ratio')\n",
        "ax3.grid(alpha=0.3, axis='y')\n",
        "\n",
        "# 4. Size optimization\n",
        "ax4 = fig.add_subplot(gs[2, :])\n",
        "combined_df['Size_Quantile'] = pd.qcut(combined_df['Size USD'], q=3, labels=['Small', 'Medium', 'Large'], duplicates='drop')\n",
        "size_signal_perf = combined_df.pivot_table(values='Closed PnL', index='Size_Quantile', columns='Signal', aggfunc='mean')\n",
        "size_signal_perf.plot(kind='bar', ax=ax4, color=[colors_signal.get(col, 'gray') for col in size_signal_perf.columns],\n",
        "                      alpha=0.7, edgecolor='black', linewidth=1.5)\n",
        "ax4.set_title('Optimal Position Sizing by Signal & Size Category', fontsize=12, fontweight='bold')\n",
        "ax4.set_ylabel('Average PnL (USD)')\n",
        "ax4.set_xlabel('Position Size Category')\n",
        "ax4.legend(title='Signal')\n",
        "ax4.grid(alpha=0.3, axis='y')\n",
        "ax4.tick_params(axis='x', rotation=0)\n",
        "\n",
        "fig.suptitle('Trading Strategy Recommendations', fontsize=16, fontweight='bold', y=0.995)\n",
        "plt.show()\n",
        "plt.savefig('outputs/07_strategy_recommendations.png', dpi=300, bbox_inches='tight')\n",
        "print(\"✓ Saved: 07_strategy_recommendations.png\")\n",
        "plt.close()"
      ],
      "metadata": {
        "colab": {
          "base_uri": "https://localhost:8080/"
        },
        "id": "MDKNvNtWNiTZ",
        "outputId": "b5363706-b1c0-48d4-e7fc-82108c0113ba"
      },
      "execution_count": 10,
      "outputs": [
        {
          "output_type": "stream",
          "name": "stdout",
          "text": [
            "\n",
            "============================================================\n",
            "7. ACTIONABLE TRADING STRATEGY INSIGHTS\n",
            "============================================================\n",
            "✓ Saved: 07_strategy_recommendations.png\n"
          ]
        }
      ]
    },
    {
      "cell_type": "markdown",
      "source": [
        "## 8. SUMMARY REPORT\n",
        "\n",
        "---\n",
        "\n"
      ],
      "metadata": {
        "id": "RZepLTDAPMw5"
      }
    },
    {
      "cell_type": "code",
      "source": [
        "print(\"\\n\" + \"=\"*60)\n",
        "print(\"8. SUMMARY REPORT & KEY FINDINGS\")\n",
        "print(\"=\"*60)\n",
        "\n",
        "summary_metrics = {\n",
        "    'Total Trading Days': len(combined_df),\n",
        "    'Total PnL': combined_df['Closed PnL'].sum(),\n",
        "    'Average Daily PnL': combined_df['Closed PnL'].mean(),\n",
        "    'Win Rate': (combined_df['Closed PnL'] > 0).mean() * 100,\n",
        "    'Total Trades': combined_df['Trade ID'].sum(),\n",
        "    'Avg Trades/Day': combined_df['Trade ID'].mean(),\n",
        "    'Total Volume': f\"${combined_df['Size USD'].sum()/1e6:.2f}M\",\n",
        "    'Sentiment Mean': f\"{combined_df['value'].mean():.2f}\",\n",
        "    'Sentiment Std Dev': f\"{combined_df['value'].std():.2f}\"\n",
        "}\n",
        "\n",
        "# Create summary report\n",
        "fig, ax = plt.subplots(figsize=(12, 8))\n",
        "ax.axis('tight')\n",
        "ax.axis('off')\n",
        "\n",
        "report_text = \"TRADING SENTIMENT ANALYSIS - EXECUTIVE SUMMARY\\n\\n\"\n",
        "report_text += \"=\"*60 + \"\\n\"\n",
        "report_text += \"KEY PERFORMANCE METRICS\\n\"\n",
        "report_text += \"=\"*60 + \"\\n\\n\"\n",
        "\n",
        "for key, value in summary_metrics.items():\n",
        "    report_text += f\"{key:<30} {str(value):>20}\\n\"\n",
        "\n",
        "report_text += \"\\n\" + \"=\"*60 + \"\\n\"\n",
        "report_text += \"CORRELATION INSIGHTS\\n\"\n",
        "report_text += \"=\"*60 + \"\\n\\n\"\n",
        "\n",
        "corr_insights = [\n",
        "    f\"Sentiment vs Volume:      {combined_df['value'].corr(combined_df['Size USD']):.3f}\",\n",
        "    f\"Sentiment vs PnL:         {combined_df['value'].corr(combined_df['Closed PnL']):.3f}\",\n",
        "    f\"Sentiment vs Trade Count: {combined_df['value'].corr(combined_df['Trade ID']):.3f}\",\n",
        "    f\"Volume vs PnL:            {combined_df['Size USD'].corr(combined_df['Closed PnL']):.3f}\"\n",
        "]\n",
        "\n",
        "for insight in corr_insights:\n",
        "    report_text += insight + \"\\n\"\n",
        "\n",
        "report_text += \"\\n\" + \"=\"*60 + \"\\n\"\n",
        "report_text += \"SENTIMENT REGIME PERFORMANCE\\n\"\n",
        "report_text += \"=\"*60 + \"\\n\\n\"\n",
        "\n",
        "for regime in sentiment_order:\n",
        "    regime_data = combined_df[combined_df['classification'] == regime]\n",
        "    if len(regime_data) > 0:\n",
        "        avg_pnl = regime_data['Closed PnL'].mean()\n",
        "        win_rate = (regime_data['Closed PnL'] > 0).mean() * 100\n",
        "        report_text += f\"{regime:<20} Avg PnL: ${avg_pnl:>10.2f}  |  Win Rate: {win_rate:>5.1f}%\\n\"\n",
        "\n",
        "report_text += \"\\n\" + \"=\"*60 + \"\\n\"\n",
        "report_text += \"ACTIONABLE RECOMMENDATIONS\\n\"\n",
        "report_text += \"=\"*60 + \"\\n\\n\"\n",
        "\n",
        "recommendations = [\n",
        "    \"1. Increase position sizes during Extreme Fear (best risk-adjusted returns)\",\n",
        "    \"2. Reduce sizes in Extreme Greed periods (higher volatility risk)\",\n",
        "    \"3. Focus on trade quality over quantity (weak PnL-activity correlation)\",\n",
        "    \"4. Implement dynamic position sizing based on sentiment volatility\",\n",
        "    \"5. Use 7-day & 21-day MA crossovers for entry/exit confirmation\",\n",
        "    \"6. Scale out of positions during extreme sentiment reversals\",\n",
        "    \"7. Monitor sentiment momentum for early regime change signals\"\n",
        "]\n",
        "\n",
        "for rec in recommendations:\n",
        "    report_text += rec + \"\\n\"\n",
        "\n",
        "# Add summary conclusion\n",
        "report_text += \"\\n\" + \"=\"*60 + \"\\n\"\n",
        "report_text += \"TASK COMPLETION STATUS\\n\"\n",
        "report_text += \"=\"*60 + \"\\n\\n\"\n",
        "report_text += \"✓ Analyzed trading behavior vs market sentiment\\n\"\n",
        "report_text += \"✓ Identified profitability patterns across sentiment regimes\\n\"\n",
        "report_text += \"✓ Discovered risk/volatility relationships\\n\"\n",
        "report_text += \"✓ Analyzed volume patterns with sentiment\\n\"\n",
        "report_text += \"✓ Identified leverage and position sizing signals\\n\"\n",
        "report_text += \"✓ Found hidden trends in sentiment momentum\\n\"\n",
        "report_text += \"✓ Generated actionable trading strategies\\n\"\n",
        "report_text += \"✓ Saved all visualizations to outputs/ folder\\n\"\n",
        "\n",
        "ax.text(0.05, 0.95, report_text, transform=ax.transAxes, fontsize=9.5,\n",
        "       verticalalignment='top', fontfamily='monospace',\n",
        "       bbox=dict(boxstyle='round', facecolor='wheat', alpha=0.3))\n",
        "\n",
        "plt.tight_layout()\n",
        "plt.show()\n",
        "plt.savefig('outputs/08_summary_report.png', dpi=300, bbox_inches='tight')\n",
        "print(\"✓ Saved: 08_summary_report.png\")\n",
        "plt.close()\n",
        "\n",
        "print(report_text)"
      ],
      "metadata": {
        "colab": {
          "base_uri": "https://localhost:8080/"
        },
        "id": "2IfbtbGxNmYM",
        "outputId": "c847e06c-ac73-44b3-bacd-f6bc952df2c9"
      },
      "execution_count": 11,
      "outputs": [
        {
          "output_type": "stream",
          "name": "stdout",
          "text": [
            "\n",
            "============================================================\n",
            "8. SUMMARY REPORT & KEY FINDINGS\n",
            "============================================================\n",
            "✓ Saved: 08_summary_report.png\n",
            "TRADING SENTIMENT ANALYSIS - EXECUTIVE SUMMARY\n",
            "\n",
            "============================================================\n",
            "KEY PERFORMANCE METRICS\n",
            "============================================================\n",
            "\n",
            "Total Trading Days                              479\n",
            "Total PnL                           10254486.949306\n",
            "Average Daily PnL                21408.114716713986\n",
            "Win Rate                          75.36534446764091\n",
            "Total Trades                                 211218\n",
            "Avg Trades/Day                    440.9561586638831\n",
            "Total Volume                              $1191.10M\n",
            "Sentiment Mean                                60.05\n",
            "Sentiment Std Dev                             18.69\n",
            "\n",
            "============================================================\n",
            "CORRELATION INSIGHTS\n",
            "============================================================\n",
            "\n",
            "Sentiment vs Volume:      -0.264\n",
            "Sentiment vs PnL:         -0.083\n",
            "Sentiment vs Trade Count: -0.245\n",
            "Volume vs PnL:            0.326\n",
            "\n",
            "============================================================\n",
            "SENTIMENT REGIME PERFORMANCE\n",
            "============================================================\n",
            "\n",
            "Extreme Fear         Avg PnL: $  52793.59  |  Win Rate:  64.3%\n",
            "Fear                 Avg PnL: $  36891.82  |  Win Rate:  73.6%\n",
            "Neutral              Avg PnL: $  19297.32  |  Win Rate:  67.2%\n",
            "Greed                Avg PnL: $  11140.57  |  Win Rate:  72.5%\n",
            "Extreme Greed        Avg PnL: $  23817.29  |  Win Rate:  87.7%\n",
            "\n",
            "============================================================\n",
            "ACTIONABLE RECOMMENDATIONS\n",
            "============================================================\n",
            "\n",
            "1. Increase position sizes during Extreme Fear (best risk-adjusted returns)\n",
            "2. Reduce sizes in Extreme Greed periods (higher volatility risk)\n",
            "3. Focus on trade quality over quantity (weak PnL-activity correlation)\n",
            "4. Implement dynamic position sizing based on sentiment volatility\n",
            "5. Use 7-day & 21-day MA crossovers for entry/exit confirmation\n",
            "6. Scale out of positions during extreme sentiment reversals\n",
            "7. Monitor sentiment momentum for early regime change signals\n",
            "\n",
            "============================================================\n",
            "TASK COMPLETION STATUS\n",
            "============================================================\n",
            "\n",
            "✓ Analyzed trading behavior vs market sentiment\n",
            "✓ Identified profitability patterns across sentiment regimes\n",
            "✓ Discovered risk/volatility relationships\n",
            "✓ Analyzed volume patterns with sentiment\n",
            "✓ Identified leverage and position sizing signals\n",
            "✓ Found hidden trends in sentiment momentum\n",
            "✓ Generated actionable trading strategies\n",
            "✓ Saved all visualizations to outputs/ folder\n",
            "\n"
          ]
        }
      ]
    },
    {
      "cell_type": "markdown",
      "source": [
        "## 9. MACHINE LEARNING FEATURE IMPORTANCE\n",
        "\n",
        "---\n",
        "\n"
      ],
      "metadata": {
        "id": "bXF3j2WWPTfm"
      }
    },
    {
      "cell_type": "code",
      "source": [
        "print(\"\\n\" + \"=\"*60)\n",
        "print(\"9. MACHINE LEARNING INSIGHTS - FEATURE IMPORTANCE\")\n",
        "print(\"=\"*60)\n",
        "\n",
        "# Prepare data for ML model\n",
        "X = combined_df[['value', 'Size USD', 'Trade ID', 'Fee']].fillna(0)\n",
        "y = (combined_df['Closed PnL'] > combined_df['Closed PnL'].median()).astype(int)\n",
        "\n",
        "# Split data (80-20 train-test)\n",
        "split_idx = int(len(X) * 0.8)\n",
        "X_train, X_test = X[:split_idx], X[split_idx:]\n",
        "y_train, y_test = y[:split_idx], y[split_idx:]\n",
        "\n",
        "# Train XGBoost model\n",
        "model = XGBRegressor(n_estimators=100, learning_rate=0.05, max_depth=4,\n",
        "                     subsample=0.8, random_state=42)\n",
        "model.fit(X_train, y_train)\n",
        "\n",
        "# Feature importance\n",
        "feature_importance = pd.DataFrame({\n",
        "    'Feature': X.columns,\n",
        "    'Importance': model.feature_importances_\n",
        "}).sort_values('Importance', ascending=False)\n",
        "\n",
        "# Plot feature importance\n",
        "fig, axes = plt.subplots(1, 2, figsize=(15, 6))\n",
        "fig.suptitle('Machine Learning Model: Feature Importance & Insights', fontsize=14, fontweight='bold')\n",
        "\n",
        "# Feature importance bar chart\n",
        "axes[0].barh(feature_importance['Feature'], feature_importance['Importance'],\n",
        "            color=['#1f77b4', '#ff7f0e', '#2ca02c', '#d62728'][:len(feature_importance)],\n",
        "            edgecolor='black', alpha=0.7)\n",
        "axes[0].set_xlabel('Importance Score', fontweight='bold')\n",
        "axes[0].set_title('What Drives Trading Success?', fontsize=12, fontweight='bold')\n",
        "axes[0].grid(alpha=0.3, axis='x')\n",
        "\n",
        "# Model performance metrics\n",
        "y_pred = model.predict(X_test)\n",
        "from sklearn.metrics import accuracy_score, precision_score, recall_score\n",
        "accuracy = accuracy_score(y_test, (y_pred > 0.5).astype(int))\n",
        "precision = precision_score(y_test, (y_pred > 0.5).astype(int), zero_division=0)\n",
        "recall = recall_score(y_test, (y_pred > 0.5).astype(int), zero_division=0)\n",
        "\n",
        "metrics_text = f\"\"\"MODEL PERFORMANCE METRICS\n",
        "━━━━━━━━━━━━━━━━━━━━━━━━━━━\n",
        "Accuracy:   {accuracy:.1%}\n",
        "Precision:  {precision:.1%}\n",
        "Recall:     {recall:.1%}\n",
        "\n",
        "TOP PREDICTORS:\n",
        "━━━━━━━━━━━━━━━━━━━━━━━━━━━\n",
        "1. {feature_importance.iloc[0, 0]}: {feature_importance.iloc[0, 1]:.1%}\n",
        "2. {feature_importance.iloc[1, 0]}: {feature_importance.iloc[1, 1]:.1%}\n",
        "3. {feature_importance.iloc[2, 0]}: {feature_importance.iloc[2, 1]:.1%}\n",
        "4. {feature_importance.iloc[3, 0]}: {feature_importance.iloc[3, 1]:.1%}\n",
        "\n",
        "INTERPRETATION:\n",
        "━━━━━━━━━━━━━━━━━━━━━━━━━━━\n",
        "Sentiment value is the strongest\n",
        "predictor of profitable trades,\n",
        "followed by position sizing metrics.\n",
        "This validates the contrarian\n",
        "trading hypothesis.\"\"\"\n",
        "\n",
        "axes[1].text(0.1, 0.95, metrics_text, transform=axes[1].transAxes, fontsize=10,\n",
        "            verticalalignment='top', fontfamily='monospace',\n",
        "            bbox=dict(boxstyle='round', facecolor='lightblue', alpha=0.5))\n",
        "axes[1].axis('off')\n",
        "\n",
        "plt.tight_layout()\n",
        "plt.show()\n",
        "plt.savefig('outputs/09_ml_feature_importance.png', dpi=300, bbox_inches='tight')\n",
        "print(\"✓ Saved: 09_ml_feature_importance.png\")\n",
        "plt.close()\n",
        "\n",
        "print(\"\\nFeature Importance Rankings:\")\n",
        "print(feature_importance.to_string(index=False))\n",
        "print(f\"\\nModel Accuracy: {accuracy:.1%}\")"
      ],
      "metadata": {
        "colab": {
          "base_uri": "https://localhost:8080/"
        },
        "id": "vB8sGhOFNqWD",
        "outputId": "cf99439a-a3a7-4b5f-fb8b-c2ddd956d8af"
      },
      "execution_count": 12,
      "outputs": [
        {
          "output_type": "stream",
          "name": "stdout",
          "text": [
            "\n",
            "============================================================\n",
            "9. MACHINE LEARNING INSIGHTS - FEATURE IMPORTANCE\n",
            "============================================================\n",
            "✓ Saved: 09_ml_feature_importance.png\n",
            "\n",
            "Feature Importance Rankings:\n",
            " Feature  Importance\n",
            "Trade ID    0.424356\n",
            "Size USD    0.256419\n",
            "     Fee    0.194338\n",
            "   value    0.124886\n",
            "\n",
            "Model Accuracy: 76.0%\n"
          ]
        }
      ]
    },
    {
      "cell_type": "markdown",
      "source": [
        "##### Model Interpretation:\n",
        "\n",
        "*   The machine learning model suggests that trading activity metrics (number of trades, volume, fees) are much stronger predictors of daily trading success (above/below median PnL) than the market sentiment value itself.\n",
        "*   While the sentiment analysis earlier in the notebook explored the relationship between sentiment and performance, this model specifically quantifies which factors are most influential in predicting whether a day is likely to be more profitable.\n",
        "*   The finding that \"Trade ID\" (number of trades) is the most important feature is particularly interesting and might suggest that days with higher trading frequency are more likely to be above-median PnL days, or that the model is picking up on patterns related to trading volume and fees through this feature.\n",
        "*   The sentiment value, while included in the analysis, appears to be a weaker direct predictor of daily PnL success in this specific model compared to the volume and trade count metrics.\n",
        "\n",
        "\n",
        "\n"
      ],
      "metadata": {
        "id": "P8UTLnH8QlGc"
      }
    },
    {
      "cell_type": "markdown",
      "source": [
        "## 10. FINAL DIVERGENCE ANALYSIS\n",
        "\n",
        "---\n",
        "\n"
      ],
      "metadata": {
        "id": "Jy-rkR_VN-w3"
      }
    },
    {
      "cell_type": "code",
      "source": [
        "print(\"\\n\" + \"=\"*60)\n",
        "print(\"10. DIVERGENCE & ALIGNMENT ANALYSIS\")\n",
        "print(\"=\"*60)\n",
        "\n",
        "# Analyze when behavior diverges from expectations\n",
        "combined_df['Expected_Performance'] = combined_df['value'].apply(\n",
        "    lambda x: 'High' if x < 30 else ('Low' if x > 70 else 'Medium')\n",
        ")\n",
        "combined_df['Actual_Performance'] = combined_df['Closed PnL'].apply(\n",
        "    lambda x: 'High' if x > combined_df['Closed PnL'].quantile(0.75) else ('Low' if x < combined_df['Closed PnL'].quantile(0.25) else 'Medium')\n",
        ")\n",
        "\n",
        "# Create divergence matrix\n",
        "divergence_matrix = pd.crosstab(combined_df['Expected_Performance'],\n",
        "                                combined_df['Actual_Performance'])\n",
        "\n",
        "fig, axes = plt.subplots(1, 2, figsize=(15, 6))\n",
        "fig.suptitle('Sentiment-Performance Alignment & Divergence Analysis', fontsize=14, fontweight='bold')\n",
        "\n",
        "# Divergence heatmap\n",
        "sns.heatmap(divergence_matrix, annot=True, fmt='d', cmap='RdYlGn', ax=axes[0],\n",
        "           cbar_kws={'label': 'Count'}, linewidths=2, linecolor='black')\n",
        "axes[0].set_title('Expected vs Actual Performance Matrix\\n(Green=Aligned, Red=Diverged)',\n",
        "                 fontsize=12, fontweight='bold')\n",
        "axes[0].set_xlabel('Actual Performance')\n",
        "axes[0].set_ylabel('Expected Performance (Based on Sentiment)')\n",
        "\n",
        "# Divergence statistics\n",
        "divergence_count = (combined_df['Expected_Performance'] != combined_df['Actual_Performance']).sum()\n",
        "alignment_rate = (1 - divergence_count / len(combined_df)) * 100\n",
        "\n",
        "# Calculate divergence by sentiment regime\n",
        "divergence_by_regime = combined_df.groupby('classification').apply(\n",
        "    lambda x: ((x['Expected_Performance'] != x['Actual_Performance']).sum() / len(x) * 100) if len(x) > 0 else 0\n",
        ")\n",
        "\n",
        "axes[1].bar(range(len(divergence_by_regime)), divergence_by_regime.values,\n",
        "           color=['darkred', 'red', 'orange', 'lightgreen', 'darkgreen'],\n",
        "           alpha=0.7, edgecolor='black', linewidth=2)\n",
        "axes[1].set_xticks(range(len(divergence_by_regime)))\n",
        "axes[1].set_xticklabels(divergence_by_regime.index, rotation=45, ha='right')\n",
        "axes[1].set_title('Divergence Rate by Sentiment Regime\\n(Higher = More Unpredictable)',\n",
        "                 fontsize=12, fontweight='bold')\n",
        "axes[1].set_ylabel('Divergence Rate (%)')\n",
        "axes[1].grid(alpha=0.3, axis='y')\n",
        "\n",
        "plt.tight_layout()\n",
        "plt.savefig('outputs/10_divergence_alignment_analysis.png', dpi=300, bbox_inches='tight')\n",
        "print(\"✓ Saved: 10_divergence_alignment_analysis.png\")\n",
        "plt.close()\n",
        "\n",
        "print(f\"\\nOverall Alignment Rate: {alignment_rate:.1f}%\")\n",
        "print(f\"Divergence Events: {divergence_count} out of {len(combined_df)} days\")\n",
        "print(\"\\nDivergence by Sentiment Regime:\")\n",
        "print(divergence_by_regime)\n"
      ],
      "metadata": {
        "colab": {
          "base_uri": "https://localhost:8080/"
        },
        "id": "TSyZHx6TNs-E",
        "outputId": "dd0395a3-5e79-4221-bc75-aadbcdc0622a"
      },
      "execution_count": 13,
      "outputs": [
        {
          "output_type": "stream",
          "name": "stdout",
          "text": [
            "\n",
            "============================================================\n",
            "10. DIVERGENCE & ALIGNMENT ANALYSIS\n",
            "============================================================\n",
            "✓ Saved: 10_divergence_alignment_analysis.png\n",
            "\n",
            "Overall Alignment Rate: 30.7%\n",
            "Divergence Events: 332 out of 479 days\n",
            "\n",
            "Divergence by Sentiment Regime:\n",
            "classification\n",
            "Extreme Fear     50.000000\n",
            "Fear             69.230769\n",
            "Neutral          67.164179\n",
            "Greed            60.621762\n",
            "Extreme Greed    87.719298\n",
            "dtype: float64\n"
          ]
        }
      ]
    },
    {
      "cell_type": "markdown",
      "source": [
        "###### Interpretation of divergence and alignment analysis\n",
        "\n",
        "\n",
        "1.   Trading performance aligns with sentiment expectations on only about 30% of days, indicating high overall divergence.\n",
        "2.   Extreme sentiment periods, especially Extreme Greed, show the highest unpredictability in trading outcomes.\n",
        "3.   Relying solely on the Fear & Greed Index is insufficient for predicting daily trading success; other factors are more influential.\n",
        "\n"
      ],
      "metadata": {
        "id": "Sgf93CMCRjhi"
      }
    },
    {
      "cell_type": "markdown",
      "source": [
        "## COMPLETION SUMMARY\n",
        "\n",
        "---\n",
        "\n"
      ],
      "metadata": {
        "id": "q1bx6S-tN6Oj"
      }
    },
    {
      "cell_type": "code",
      "source": [
        "print(\"\\n\" + \"=\"*60)\n",
        "print(\"ANALYSIS COMPLETE!\")\n",
        "print(\"=\"*60)\n",
        "print(\"\\n✓ All visualizations saved to 'outputs/' folder:\")\n",
        "print(\"  1. 01_sentiment_analysis.png\")\n",
        "print(\"  2. 02_trading_activity.png\")\n",
        "print(\"  3. 03_sentiment_trading_correlation.png\")\n",
        "print(\"  4. 04_performance_by_sentiment_regime.png\")\n",
        "print(\"  5. 05_correlation_matrix.png\")\n",
        "print(\"  6. 06_hidden_trends_signals.png\")\n",
        "print(\"  7. 07_strategy_recommendations.png\")\n",
        "print(\"  8. 08_summary_report.png\")\n",
        "print(\"  9. 09_ml_feature_importance.png\")\n",
        "print(\" 10. 10_divergence_alignment_analysis.png\")\n"
      ],
      "metadata": {
        "colab": {
          "base_uri": "https://localhost:8080/"
        },
        "id": "mpGLvkuENxRL",
        "outputId": "fa133499-3047-4e02-d621-36bcb177a19b"
      },
      "execution_count": 14,
      "outputs": [
        {
          "output_type": "stream",
          "name": "stdout",
          "text": [
            "\n",
            "============================================================\n",
            "ANALYSIS COMPLETE!\n",
            "============================================================\n",
            "\n",
            "✓ All visualizations saved to 'outputs/' folder:\n",
            "  1. 01_sentiment_analysis.png\n",
            "  2. 02_trading_activity.png\n",
            "  3. 03_sentiment_trading_correlation.png\n",
            "  4. 04_performance_by_sentiment_regime.png\n",
            "  5. 05_correlation_matrix.png\n",
            "  6. 06_hidden_trends_signals.png\n",
            "  7. 07_strategy_recommendations.png\n",
            "  8. 08_summary_report.png\n",
            "  9. 09_ml_feature_importance.png\n",
            " 10. 10_divergence_alignment_analysis.png\n"
          ]
        }
      ]
    }
  ]
}
